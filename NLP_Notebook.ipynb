{
 "cells": [
  {
   "cell_type": "markdown",
   "metadata": {
    "colab_type": "text",
    "id": "view-in-github"
   },
   "source": [
    "<a href=\"https://colab.research.google.com/github/BastienCherel/TripAdvisor-Recommendation-Challenge/blob/main/NLP_Notebook.ipynb\" target=\"_parent\"><img src=\"https://colab.research.google.com/assets/colab-badge.svg\" alt=\"Open In Colab\"/></a>"
   ]
  },
  {
   "cell_type": "markdown",
   "metadata": {
    "id": "yM4qGZuU8Ffa"
   },
   "source": [
    "# Natural Language Processing  : First Project\n",
    "## TripAdvisor Recommendation Challenge\n",
    "Beating BM25"
   ]
  },
  {
   "cell_type": "markdown",
   "metadata": {
    "id": "asiW0eCb980o"
   },
   "source": [
    "\n",
    "### Installing BM25"
   ]
  },
  {
   "cell_type": "code",
   "execution_count": 4,
   "metadata": {
    "colab": {
     "base_uri": "https://localhost:8080/"
    },
    "id": "BejHClWA9-6M",
    "outputId": "c63a5784-fc1c-4961-8870-71f362d31efd"
   },
   "outputs": [
    {
     "name": "stdout",
     "output_type": "stream",
     "text": [
      "Requirement already satisfied: rank_bm25 in /usr/local/python/3.12.1/lib/python3.12/site-packages (0.2.2)\n",
      "Requirement already satisfied: numpy in /home/codespace/.local/lib/python3.12/site-packages (from rank_bm25) (2.1.1)\n",
      "\n",
      "\u001b[1m[\u001b[0m\u001b[34;49mnotice\u001b[0m\u001b[1;39;49m]\u001b[0m\u001b[39;49m A new release of pip is available: \u001b[0m\u001b[31;49m24.2\u001b[0m\u001b[39;49m -> \u001b[0m\u001b[32;49m24.3.1\u001b[0m\n",
      "\u001b[1m[\u001b[0m\u001b[34;49mnotice\u001b[0m\u001b[1;39;49m]\u001b[0m\u001b[39;49m To update, run: \u001b[0m\u001b[32;49mpython3 -m pip install --upgrade pip\u001b[0m\n",
      "Requirement already satisfied: kagglehub in /usr/local/python/3.12.1/lib/python3.12/site-packages (0.3.4)\n",
      "Requirement already satisfied: packaging in /home/codespace/.local/lib/python3.12/site-packages (from kagglehub) (24.1)\n",
      "Requirement already satisfied: requests in /home/codespace/.local/lib/python3.12/site-packages (from kagglehub) (2.32.3)\n",
      "Requirement already satisfied: tqdm in /usr/local/python/3.12.1/lib/python3.12/site-packages (from kagglehub) (4.67.1)\n",
      "Requirement already satisfied: charset-normalizer<4,>=2 in /home/codespace/.local/lib/python3.12/site-packages (from requests->kagglehub) (3.3.2)\n",
      "Requirement already satisfied: idna<4,>=2.5 in /home/codespace/.local/lib/python3.12/site-packages (from requests->kagglehub) (3.10)\n",
      "Requirement already satisfied: urllib3<3,>=1.21.1 in /home/codespace/.local/lib/python3.12/site-packages (from requests->kagglehub) (2.2.3)\n",
      "Requirement already satisfied: certifi>=2017.4.17 in /home/codespace/.local/lib/python3.12/site-packages (from requests->kagglehub) (2024.8.30)\n",
      "\n",
      "\u001b[1m[\u001b[0m\u001b[34;49mnotice\u001b[0m\u001b[1;39;49m]\u001b[0m\u001b[39;49m A new release of pip is available: \u001b[0m\u001b[31;49m24.2\u001b[0m\u001b[39;49m -> \u001b[0m\u001b[32;49m24.3.1\u001b[0m\n",
      "\u001b[1m[\u001b[0m\u001b[34;49mnotice\u001b[0m\u001b[1;39;49m]\u001b[0m\u001b[39;49m To update, run: \u001b[0m\u001b[32;49mpython3 -m pip install --upgrade pip\u001b[0m\n"
     ]
    }
   ],
   "source": [
    "!pip install rank_bm25\n",
    "!pip install kagglehub"
   ]
  },
  {
   "cell_type": "markdown",
   "metadata": {
    "id": "iP73Jjj6FsnB"
   },
   "source": [
    "### Download data"
   ]
  },
  {
   "cell_type": "code",
   "execution_count": 5,
   "metadata": {
    "colab": {
     "base_uri": "https://localhost:8080/"
    },
    "id": "9P1ThMhKFtQ-",
    "outputId": "67afa2de-7d00-44b0-b666-e8bb6cbfcc27"
   },
   "outputs": [
    {
     "name": "stderr",
     "output_type": "stream",
     "text": [
      "/usr/local/python/3.12.1/lib/python3.12/site-packages/tqdm/auto.py:21: TqdmWarning: IProgress not found. Please update jupyter and ipywidgets. See https://ipywidgets.readthedocs.io/en/stable/user_install.html\n",
      "  from .autonotebook import tqdm as notebook_tqdm\n"
     ]
    },
    {
     "name": "stdout",
     "output_type": "stream",
     "text": [
      "Downloading from https://www.kaggle.com/api/v1/datasets/download/joebeachcapital/hotel-reviews?dataset_version_number=2...\n"
     ]
    },
    {
     "name": "stderr",
     "output_type": "stream",
     "text": [
      "100%|██████████| 717M/717M [00:19<00:00, 38.1MB/s] "
     ]
    },
    {
     "name": "stdout",
     "output_type": "stream",
     "text": [
      "Extracting files...\n"
     ]
    },
    {
     "name": "stderr",
     "output_type": "stream",
     "text": [
      "\n"
     ]
    },
    {
     "name": "stdout",
     "output_type": "stream",
     "text": [
      "Path to dataset files: /home/codespace/.cache/kagglehub/datasets/joebeachcapital/hotel-reviews/versions/2\n"
     ]
    }
   ],
   "source": [
    "import kagglehub\n",
    "\n",
    "# Download latest version\n",
    "path = kagglehub.dataset_download(\"joebeachcapital/hotel-reviews\")\n",
    "\n",
    "print(\"Path to dataset files:\", path)"
   ]
  },
  {
   "cell_type": "markdown",
   "metadata": {
    "id": "q-eM3INu-B5f"
   },
   "source": [
    "\n",
    "### Data Preprocessing"
   ]
  },
  {
   "cell_type": "markdown",
   "metadata": {
    "id": "Uh5DMK8TGA_W"
   },
   "source": [
    "#### Hotels"
   ]
  },
  {
   "cell_type": "code",
   "execution_count": 6,
   "metadata": {
    "colab": {
     "base_uri": "https://localhost:8080/"
    },
    "id": "-lzUvSi-GEWv",
    "outputId": "7f235065-80e8-4f55-ab13-20369651d84c"
   },
   "outputs": [
    {
     "name": "stdout",
     "output_type": "stream",
     "text": [
      "   hotel_class      id                                             name  \\\n",
      "0          4.0  113317                    Casablanca Hotel Times Square   \n",
      "1          5.0   76049  Four Seasons Hotel Los Angeles at Beverly Hills   \n",
      "2          3.5   99352                   Hilton Garden Inn Times Square   \n",
      "3          4.0   93589                           The Michelangelo Hotel   \n",
      "4          4.0  217616                          The Muse Hotel New York   \n",
      "\n",
      "  region        street-address postal-code       locality  \n",
      "0     NY  147 West 43rd Street       10036  New York City  \n",
      "1     CA       300 S Doheny Dr       90048    Los Angeles  \n",
      "2     NY     790 Eighth Avenue       10019  New York City  \n",
      "3     NY  152 West 51st Street       10019  New York City  \n",
      "4     NY  130 West 46th Street       10036  New York City  \n"
     ]
    }
   ],
   "source": [
    "import pandas as pd\n",
    "\n",
    "data_hotels = pd.read_csv(path + '/offerings.csv')\n",
    "\n",
    "data_hotels = data_hotels.drop(columns=[\"phone\", \"details\",\"region_id\",\"type\", \"url\"])\n",
    "import json\n",
    "import re\n",
    "\n",
    "# Function to fix the JSON format, while preserving apostrophes in words\n",
    "def fix_json_format(address_string):\n",
    "\n",
    "\n",
    "    # 3. Detect all apostrophes inside double quotes and remove them\n",
    "    # This will remove any single quote (apostrophe) between a pair of double quotes\n",
    "    address_string = re.sub(r'(\"(?:[^\"\\\\]|\\\\.)*?)\\'(.*?\")', r'\\1\\2', address_string)\n",
    "\n",
    "\n",
    "    # 4. Handle any double quotes inside a street address properly (if needed)\n",
    "    # Escape problematic double quotes inside actual string values like street names\n",
    "    address_string = re.sub(r'(?<!\\\\)\"([A-Za-z ]*)\"(?=\\s+Street)', r'\\\"\\1\\\"', address_string)\n",
    "    address_string = re.sub(r\"'\", r'\"', address_string)\n",
    "\n",
    "    return address_string\n",
    "\n",
    "# Function to fix and convert address strings in the DataFrame\n",
    "def convert_address_string(address_string):\n",
    "    if isinstance(address_string, str):\n",
    "        fixed_string = fix_json_format(address_string)\n",
    "        return json.loads(fixed_string)  # Convert to dictionary\n",
    "    return address_string  # Return as is if not a string\n",
    "\n",
    "# Apply the function to the 'address' column\n",
    "data_hotels['address'] = data_hotels['address'].apply(convert_address_string)\n",
    "# Convert the 'address' column into a dataframe where each key becomes a new column\n",
    "address_df = pd.json_normalize(data_hotels['address'])\n",
    "\n",
    "# Now, concatenate this new dataframe to your original dataframe\n",
    "data_hotels = pd.concat([data_hotels, address_df], axis=1)\n",
    "\n",
    "# Optionally, you can drop the original 'address' column if you no longer need it\n",
    "data_hotels.drop(columns=['address'], inplace=True)\n",
    "\n",
    "print(data_hotels.head())"
   ]
  },
  {
   "cell_type": "markdown",
   "metadata": {
    "id": "BpAQhrj9J7CF"
   },
   "source": [
    "#### Reviews"
   ]
  },
  {
   "cell_type": "code",
   "execution_count": 7,
   "metadata": {
    "colab": {
     "base_uri": "https://localhost:8080/"
    },
    "id": "LQtPfBo65Be2",
    "outputId": "bff185e0-661a-44f3-938e-cf6271a53991"
   },
   "outputs": [
    {
     "name": "stdout",
     "output_type": "stream",
     "text": [
      "                                                text  offering_id    rating\n",
      "0  Stayed in a king suite for 11 nights and yes i...        93338  5.000000\n",
      "1  On every visit to NYC, the Hotel Beacon is the...        93338  5.000000\n",
      "2  This is a great property in Midtown. We two di...      1762573  4.285714\n",
      "3  The Andaz is a nice hotel in a central locatio...      1762573  4.857143\n",
      "4  I have stayed at each of the US Andaz properti...      1762573  4.428571\n"
     ]
    }
   ],
   "source": [
    "data_reviews = pd.read_csv(path + '/reviews.csv')\n",
    "\n",
    "data_reviews.drop(columns=[\"id\", \"via_mobile\",\"author\",\"date\", \"date_stayed\",\"num_helpful_votes\", \"title\"], inplace = True)\n",
    "\n",
    "def fix_json_format(address_string):\n",
    "    address_string = re.sub(r\"'\", r'\"', address_string)\n",
    "    return address_string\n",
    "\n",
    "#  Function to fix and convert address strings in the DataFrame\n",
    "def convert_review_string(address_string):\n",
    "    if isinstance(address_string, str):\n",
    "        fixed_string = fix_json_format(address_string)\n",
    "        return json.loads(fixed_string)  # Convert to dictionary\n",
    "    return address_string  # Return as is if not a string\n",
    "\n",
    "# Apply the function to the 'address' column\n",
    "data_reviews['ratings'] = data_reviews['ratings'].apply(convert_review_string)\n",
    "\n",
    "\n",
    "# Convert the 'address' column into a dataframe where each key becomes a new column\n",
    "reviews_df = pd.json_normalize(data_reviews['ratings'])\n",
    "\n",
    "# Now, concatenate this new dataframe to your original dataframe\n",
    "data_reviews = pd.concat([data_reviews, reviews_df], axis=1)\n",
    "\n",
    "# Optionally, you can drop the original 'address' column if you no longer need it\n",
    "data_reviews.drop(columns=['ratings','check_in_front_desk', 'business_service_(e_g_internet_access)'], inplace=True)\n",
    "\n",
    "import numpy as np\n",
    "# Calculate the average rating based on the specified columns\n",
    "data_reviews[\"rating\"] = data_reviews[[\n",
    "    \"service\", \"cleanliness\", \"overall\", \"value\",\n",
    "    \"location\", \"sleep_quality\", \"rooms\"\n",
    "]].mean(axis=1)\n",
    "\n",
    "data_reviews.drop(columns=[\"service\", \"cleanliness\", \"overall\", \"value\",\n",
    "    \"location\", \"sleep_quality\", \"rooms\"] , inplace=True)\n",
    "\n",
    "print(data_reviews.head())"
   ]
  },
  {
   "cell_type": "markdown",
   "metadata": {
    "id": "yEOKdTwT-xpb"
   },
   "source": [
    "### Datasets merging"
   ]
  },
  {
   "cell_type": "code",
   "execution_count": 8,
   "metadata": {
    "colab": {
     "base_uri": "https://localhost:8080/"
    },
    "id": "me4m5ZUQ-xPT",
    "outputId": "64ab572a-3a2f-43ff-d599-e3749b6943c3"
   },
   "outputs": [
    {
     "name": "stdout",
     "output_type": "stream",
     "text": [
      "                                        reviews_text  reviews_rating  \\\n",
      "0  Stayed in a king suite for 11 nights and yes i...        5.000000   \n",
      "1  On every visit to NYC, the Hotel Beacon is the...        5.000000   \n",
      "2  This is a great property in Midtown. We two di...        4.285714   \n",
      "3  The Andaz is a nice hotel in a central locatio...        4.857143   \n",
      "4  I have stayed at each of the US Andaz properti...        4.428571   \n",
      "\n",
      "   hotel_hotel_class  hotel_id        hotel_name hotel_region  \\\n",
      "0                3.0     93338      Hotel Beacon           NY   \n",
      "1                3.0     93338      Hotel Beacon           NY   \n",
      "2                4.0   1762573  Andaz 5th Avenue           NY   \n",
      "3                4.0   1762573  Andaz 5th Avenue           NY   \n",
      "4                4.0   1762573  Andaz 5th Avenue           NY   \n",
      "\n",
      "           hotel_street-address hotel_postal-code hotel_locality  \n",
      "0  2130 Broadway at 75th Street             10023  New York City  \n",
      "1  2130 Broadway at 75th Street             10023  New York City  \n",
      "2                485 5th Avenue             10017  New York City  \n",
      "3                485 5th Avenue             10017  New York City  \n",
      "4                485 5th Avenue             10017  New York City  \n"
     ]
    }
   ],
   "source": [
    "# Rename columns from 'hotel' table with 'hotel_' prefix\n",
    "hotel_columns = {col: f'hotel_{col}' for col in data_hotels.columns if col != 'offering_id'}\n",
    "\n",
    "# Rename columns from 'reviews' table with 'reviews_' prefix\n",
    "reviews_columns = {col: f'reviews_{col}' for col in data_reviews.columns if col != 'id'}\n",
    "\n",
    "data = pd.merge(data_reviews, data_hotels, left_on=\"offering_id\", right_on=\"id\", how=\"left\",suffixes=(\"_rewiew\", \"_hotel\"))\n",
    "data = data.drop(columns=[\"offering_id\"])\n",
    "\n",
    "data = data.rename(columns={**hotel_columns, **reviews_columns})\n",
    "data = data.dropna()\n",
    "\n",
    "print(data.head())"
   ]
  },
  {
   "cell_type": "markdown",
   "metadata": {
    "id": "fBLTR1-X-oH7"
   },
   "source": [
    "### BM vs. My model"
   ]
  },
  {
   "cell_type": "code",
   "execution_count": 9,
   "metadata": {
    "colab": {
     "base_uri": "https://localhost:8080/"
    },
    "id": "gVZsBPdW-oca",
    "outputId": "cd2d6563-e2c3-4572-ba1e-13ae28fb9818"
   },
   "outputs": [
    {
     "name": "stdout",
     "output_type": "stream",
     "text": [
      "Selected hotel: ['Boston' 'MA' 'Sheraton Boston Hotel']\n",
      "Mean Squared Error - BM25: 0.7810000750680801\n",
      "Selected hotel: ['Boston' 'MA' 'Sheraton Boston Hotel']\n",
      "Mean Squared Error - My model: 0.7810000750680801\n"
     ]
    }
   ],
   "source": [
    "from rank_bm25 import BM25Okapi\n",
    "\n",
    "class Query:\n",
    "    def __init__(self, text, avg_rating, region\t, locality):\n",
    "        self.text = text\n",
    "        self.rating = avg_rating\n",
    "        self.region = region\n",
    "        self.locality = locality\n",
    "\n",
    "    def bm25_model(self, reviews):\n",
    "        filtered_reviews = reviews[(reviews['hotel_region'] == self.region) & (reviews['hotel_locality'] == self.locality)]\n",
    "\n",
    "        corpus = filtered_reviews[\"reviews_text\"]\n",
    "        tokenized_corpus = [rating.split(\" \") for rating in corpus]\n",
    "\n",
    "        bm25 = BM25Okapi(tokenized_corpus)\n",
    "        tokenized_query = self.text.split(\" \")\n",
    "        doc_scores = bm25.get_scores(tokenized_query)\n",
    "        most_related_place_bm = filtered_reviews.iloc[doc_scores.argmax()][\"hotel_id\"]\n",
    "        return most_related_place_bm\n",
    "\n",
    "    def my_model(self, reviews):\n",
    "        filtered_reviews = reviews[(reviews['hotel_region'] == self.region) & (reviews['hotel_locality'] == self.locality)]\n",
    "\n",
    "        corpus = filtered_reviews[\"reviews_text\"][0:5]\n",
    "        tokenized_corpus = [rating.split(\" \") for rating in corpus]\n",
    "        corpus = filtered_reviews[\"reviews_text\"]\n",
    "        tokenized_corpus = [rating.split(\" \") for rating in corpus]\n",
    "\n",
    "        bm25 = BM25Okapi(tokenized_corpus)\n",
    "        tokenized_query = self.text.split(\" \")\n",
    "        doc_scores = bm25.get_scores(tokenized_query)\n",
    "        most_related_place_bm = filtered_reviews.iloc[doc_scores.argmax()][\"hotel_id\"]\n",
    "        return most_related_place_bm\n",
    "\n",
    "    def evaluate(self, selected_place, reviews):\n",
    "        filtered_reviews = reviews[reviews['hotel_id'] == selected_place]\n",
    "        mse = 0\n",
    "        for i in range(len(filtered_reviews)):\n",
    "            review = filtered_reviews.iloc[i]\n",
    "            mse += (self.rating - review[\"reviews_rating\"]) **2\n",
    "        mse /= filtered_reviews.shape[0]\n",
    "        return mse\n",
    "\n",
    "\n",
    "query = Query(text=\"best breakfast\",\n",
    "              avg_rating = 4,\n",
    "              region=\"MA\",\n",
    "              locality = \"Boston\")\n",
    "\n",
    "\n",
    "similates_id = query.bm25_model(data)\n",
    "print(\"Selected hotel:\" , np.unique(data[data['hotel_id'] == similates_id][[\"hotel_name\", \"hotel_region\", \"hotel_locality\"]]))\n",
    "mse = query.evaluate(similates_id,data)\n",
    "print(\"Mean Squared Error - BM25:\", mse)\n",
    "\n",
    "similates_id = query.my_model(data)\n",
    "print(\"Selected hotel:\" , np.unique(data[data['hotel_id'] == similates_id][[\"hotel_name\", \"hotel_region\", \"hotel_locality\"]]))\n",
    "mse = query.evaluate(similates_id,data)\n",
    "print(\"Mean Squared Error - My model:\", mse)"
   ]
  }
 ],
 "metadata": {
  "colab": {
   "authorship_tag": "ABX9TyP3f1nVVf1wYK4GD+AcMaY0",
   "include_colab_link": true,
   "provenance": [],
   "toc_visible": true
  },
  "kernelspec": {
   "display_name": "Python 3",
   "name": "python3"
  },
  "language_info": {
   "codemirror_mode": {
    "name": "ipython",
    "version": 3
   },
   "file_extension": ".py",
   "mimetype": "text/x-python",
   "name": "python",
   "nbconvert_exporter": "python",
   "pygments_lexer": "ipython3",
   "version": "3.12.1"
  }
 },
 "nbformat": 4,
 "nbformat_minor": 0
}
