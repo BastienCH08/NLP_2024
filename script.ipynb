{
 "cells": [
  {
   "cell_type": "markdown",
   "metadata": {},
   "source": [
    "# Natural Language Processing  : First Project \n",
    "## TripAdvisor Recommendation Challenge \n",
    "Beating BM25"
   ]
  },
  {
   "cell_type": "markdown",
   "metadata": {},
   "source": [
    "### Data Preprocessing"
   ]
  },
  {
   "cell_type": "code",
   "execution_count": null,
   "metadata": {},
   "outputs": [],
   "source": [
    "import pandas as pd\n",
    "\n",
    "\n",
    "data_hotels = pd.read_csv('../offerings.csv')\n",
    "data_reviews = pd.read_csv('../reviews.csv')"
   ]
  },
  {
   "cell_type": "code",
   "execution_count": 2,
   "metadata": {},
   "outputs": [],
   "source": [
    "data_reviews = data_reviews.drop(columns=[\"id\", \"via_mobile\",\"author\",\"date\", \"date_stayed\",\"num_helpful_votes\", \"title\"])"
   ]
  },
  {
   "cell_type": "code",
   "execution_count": 3,
   "metadata": {},
   "outputs": [],
   "source": [
    "import re\n",
    "import json\n",
    "def fix_json_format(address_string):\n",
    "    address_string = re.sub(r\"'\", r'\"', address_string)\n",
    "    \n",
    "    return address_string\n",
    "#  Function to fix and convert address strings in the DataFrame\n",
    "def convert_review_string(address_string):\n",
    "    if isinstance(address_string, str):\n",
    "        fixed_string = fix_json_format(address_string)\n",
    "        return json.loads(fixed_string)  # Convert to dictionary\n",
    "    return address_string  # Return as is if not a string\n",
    "\n",
    "# Apply the function to the 'address' column\n",
    "data_reviews['ratings'] = data_reviews['ratings'].apply(convert_review_string)\n",
    "\n",
    "\n",
    "# Convert the 'address' column into a dataframe where each key becomes a new column\n",
    "reviews_df = pd.json_normalize(data_reviews['ratings'])\n",
    "\n",
    "# Now, concatenate this new dataframe to your original dataframe\n",
    "data_reviews = pd.concat([data_reviews, reviews_df], axis=1)\n",
    "\n",
    "# Optionally, you can drop the original 'address' column if you no longer need it\n",
    "data_reviews.drop(columns=['ratings','check_in_front_desk', 'business_service_(e_g_internet_access)'], inplace=True)"
   ]
  },
  {
   "cell_type": "code",
   "execution_count": 4,
   "metadata": {},
   "outputs": [],
   "source": [
    "data_hotels = data_hotels.drop(columns=[\"phone\", \"details\",\"region_id\",\"type\", \"url\"])"
   ]
  },
  {
   "cell_type": "code",
   "execution_count": 5,
   "metadata": {},
   "outputs": [],
   "source": [
    "import json\n",
    "import re\n",
    "\n",
    "# Function to fix the JSON format, while preserving apostrophes in words\n",
    "def fix_json_format(address_string):\n",
    "\n",
    "\n",
    "    # 3. Detect all apostrophes inside double quotes and remove them\n",
    "    # This will remove any single quote (apostrophe) between a pair of double quotes\n",
    "    address_string = re.sub(r'(\"(?:[^\"\\\\]|\\\\.)*?)\\'(.*?\")', r'\\1\\2', address_string)\n",
    "\n",
    "    \n",
    "    # 4. Handle any double quotes inside a street address properly (if needed)\n",
    "    # Escape problematic double quotes inside actual string values like street names\n",
    "    address_string = re.sub(r'(?<!\\\\)\"([A-Za-z ]*)\"(?=\\s+Street)', r'\\\"\\1\\\"', address_string)\n",
    "    address_string = re.sub(r\"'\", r'\"', address_string)\n",
    "    \n",
    "    return address_string\n",
    "\n",
    "# Function to fix and convert address strings in the DataFrame\n",
    "def convert_address_string(address_string):\n",
    "    if isinstance(address_string, str):\n",
    "        fixed_string = fix_json_format(address_string)\n",
    "        return json.loads(fixed_string)  # Convert to dictionary\n",
    "    return address_string  # Return as is if not a string\n",
    "\n",
    "# Apply the function to the 'address' column\n",
    "data_hotels['address'] = data_hotels['address'].apply(convert_address_string)"
   ]
  },
  {
   "cell_type": "code",
   "execution_count": 6,
   "metadata": {},
   "outputs": [],
   "source": [
    "# Convert the 'address' column into a dataframe where each key becomes a new column\n",
    "address_df = pd.json_normalize(data_hotels['address'])\n",
    "\n",
    "# Now, concatenate this new dataframe to your original dataframe\n",
    "data_hotels = pd.concat([data_hotels, address_df], axis=1)\n",
    "\n",
    "# Optionally, you can drop the original 'address' column if you no longer need it\n",
    "data_hotels.drop(columns=['address'], inplace=True)"
   ]
  },
  {
   "cell_type": "code",
   "execution_count": 7,
   "metadata": {},
   "outputs": [],
   "source": [
    "import numpy as np\n",
    "# Calculate the average rating based on the specified columns\n",
    "data_reviews[\"rating\"] = data_reviews[[\n",
    "    \"service\", \"cleanliness\", \"overall\", \"value\", \n",
    "    \"location\", \"sleep_quality\", \"rooms\"\n",
    "]].mean(axis=1)\n",
    "\n",
    "data_reviews.drop(columns=[\"service\", \"cleanliness\", \"overall\", \"value\", \n",
    "    \"location\", \"sleep_quality\", \"rooms\"] , inplace=True)\n"
   ]
  },
  {
   "cell_type": "code",
   "execution_count": 8,
   "metadata": {},
   "outputs": [],
   "source": [
    "# Rename columns from 'hotel' table with 'hotel_' prefix\n",
    "hotel_columns = {col: f'hotel_{col}' for col in data_hotels.columns if col != 'offering_id'}\n",
    "\n",
    "# Rename columns from 'reviews' table with 'reviews_' prefix\n",
    "reviews_columns = {col: f'reviews_{col}' for col in data_reviews.columns if col != 'id'}\n",
    "\n",
    "data = pd.merge(data_reviews, data_hotels, left_on=\"offering_id\", right_on=\"id\", how=\"left\",suffixes=(\"_rewiew\", \"_hotel\"))\n",
    "data = data.drop(columns=[\"offering_id\"])\n",
    "\n",
    "data = data.rename(columns={**hotel_columns, **reviews_columns})\n",
    "data = data.dropna()"
   ]
  },
  {
   "cell_type": "markdown",
   "metadata": {},
   "source": [
    "### Show data"
   ]
  },
  {
   "cell_type": "code",
   "execution_count": 9,
   "metadata": {},
   "outputs": [
    {
     "data": {
      "text/html": [
       "<div>\n",
       "<style scoped>\n",
       "    .dataframe tbody tr th:only-of-type {\n",
       "        vertical-align: middle;\n",
       "    }\n",
       "\n",
       "    .dataframe tbody tr th {\n",
       "        vertical-align: top;\n",
       "    }\n",
       "\n",
       "    .dataframe thead th {\n",
       "        text-align: right;\n",
       "    }\n",
       "</style>\n",
       "<table border=\"1\" class=\"dataframe\">\n",
       "  <thead>\n",
       "    <tr style=\"text-align: right;\">\n",
       "      <th></th>\n",
       "      <th>reviews_text</th>\n",
       "      <th>reviews_rating</th>\n",
       "      <th>hotel_hotel_class</th>\n",
       "      <th>hotel_id</th>\n",
       "      <th>hotel_name</th>\n",
       "      <th>hotel_region</th>\n",
       "      <th>hotel_street-address</th>\n",
       "      <th>hotel_postal-code</th>\n",
       "      <th>hotel_locality</th>\n",
       "    </tr>\n",
       "  </thead>\n",
       "  <tbody>\n",
       "    <tr>\n",
       "      <th>0</th>\n",
       "      <td>Stayed in a king suite for 11 nights and yes i...</td>\n",
       "      <td>5.000000</td>\n",
       "      <td>3.0</td>\n",
       "      <td>93338</td>\n",
       "      <td>Hotel Beacon</td>\n",
       "      <td>NY</td>\n",
       "      <td>2130 Broadway at 75th Street</td>\n",
       "      <td>10023</td>\n",
       "      <td>New York City</td>\n",
       "    </tr>\n",
       "    <tr>\n",
       "      <th>1</th>\n",
       "      <td>On every visit to NYC, the Hotel Beacon is the...</td>\n",
       "      <td>5.000000</td>\n",
       "      <td>3.0</td>\n",
       "      <td>93338</td>\n",
       "      <td>Hotel Beacon</td>\n",
       "      <td>NY</td>\n",
       "      <td>2130 Broadway at 75th Street</td>\n",
       "      <td>10023</td>\n",
       "      <td>New York City</td>\n",
       "    </tr>\n",
       "    <tr>\n",
       "      <th>2</th>\n",
       "      <td>This is a great property in Midtown. We two di...</td>\n",
       "      <td>4.285714</td>\n",
       "      <td>4.0</td>\n",
       "      <td>1762573</td>\n",
       "      <td>Andaz 5th Avenue</td>\n",
       "      <td>NY</td>\n",
       "      <td>485 5th Avenue</td>\n",
       "      <td>10017</td>\n",
       "      <td>New York City</td>\n",
       "    </tr>\n",
       "    <tr>\n",
       "      <th>3</th>\n",
       "      <td>The Andaz is a nice hotel in a central locatio...</td>\n",
       "      <td>4.857143</td>\n",
       "      <td>4.0</td>\n",
       "      <td>1762573</td>\n",
       "      <td>Andaz 5th Avenue</td>\n",
       "      <td>NY</td>\n",
       "      <td>485 5th Avenue</td>\n",
       "      <td>10017</td>\n",
       "      <td>New York City</td>\n",
       "    </tr>\n",
       "    <tr>\n",
       "      <th>4</th>\n",
       "      <td>I have stayed at each of the US Andaz properti...</td>\n",
       "      <td>4.428571</td>\n",
       "      <td>4.0</td>\n",
       "      <td>1762573</td>\n",
       "      <td>Andaz 5th Avenue</td>\n",
       "      <td>NY</td>\n",
       "      <td>485 5th Avenue</td>\n",
       "      <td>10017</td>\n",
       "      <td>New York City</td>\n",
       "    </tr>\n",
       "  </tbody>\n",
       "</table>\n",
       "</div>"
      ],
      "text/plain": [
       "                                        reviews_text  reviews_rating  \\\n",
       "0  Stayed in a king suite for 11 nights and yes i...        5.000000   \n",
       "1  On every visit to NYC, the Hotel Beacon is the...        5.000000   \n",
       "2  This is a great property in Midtown. We two di...        4.285714   \n",
       "3  The Andaz is a nice hotel in a central locatio...        4.857143   \n",
       "4  I have stayed at each of the US Andaz properti...        4.428571   \n",
       "\n",
       "   hotel_hotel_class  hotel_id        hotel_name hotel_region  \\\n",
       "0                3.0     93338      Hotel Beacon           NY   \n",
       "1                3.0     93338      Hotel Beacon           NY   \n",
       "2                4.0   1762573  Andaz 5th Avenue           NY   \n",
       "3                4.0   1762573  Andaz 5th Avenue           NY   \n",
       "4                4.0   1762573  Andaz 5th Avenue           NY   \n",
       "\n",
       "           hotel_street-address hotel_postal-code hotel_locality  \n",
       "0  2130 Broadway at 75th Street             10023  New York City  \n",
       "1  2130 Broadway at 75th Street             10023  New York City  \n",
       "2                485 5th Avenue             10017  New York City  \n",
       "3                485 5th Avenue             10017  New York City  \n",
       "4                485 5th Avenue             10017  New York City  "
      ]
     },
     "execution_count": 9,
     "metadata": {},
     "output_type": "execute_result"
    }
   ],
   "source": [
    "data.head()"
   ]
  },
  {
   "cell_type": "code",
   "execution_count": 10,
   "metadata": {},
   "outputs": [
    {
     "name": "stdout",
     "output_type": "stream",
     "text": [
      "<class 'pandas.core.frame.DataFrame'>\n",
      "Index: 841943 entries, 0 to 878560\n",
      "Data columns (total 9 columns):\n",
      " #   Column                Non-Null Count   Dtype  \n",
      "---  ------                --------------   -----  \n",
      " 0   reviews_text          841943 non-null  object \n",
      " 1   reviews_rating        841943 non-null  float64\n",
      " 2   hotel_hotel_class     841943 non-null  float64\n",
      " 3   hotel_id              841943 non-null  int64  \n",
      " 4   hotel_name            841943 non-null  object \n",
      " 5   hotel_region          841943 non-null  object \n",
      " 6   hotel_street-address  841943 non-null  object \n",
      " 7   hotel_postal-code     841943 non-null  object \n",
      " 8   hotel_locality        841943 non-null  object \n",
      "dtypes: float64(2), int64(1), object(6)\n",
      "memory usage: 64.2+ MB\n",
      "None\n"
     ]
    }
   ],
   "source": [
    "print(data.info())"
   ]
  },
  {
   "cell_type": "markdown",
   "metadata": {},
   "source": [
    "### BM vs. My model"
   ]
  },
  {
   "cell_type": "code",
   "execution_count": 11,
   "metadata": {},
   "outputs": [
    {
     "name": "stdout",
     "output_type": "stream",
     "text": [
      "Really, really good. Despite being a huge city Hotel it still has a personal touch. Without a doubt it also has the best buffet breakfast in town. Also the very best open air roof top pool, you couldn't ask for any more. If you can stay - do stay.\n",
      "Selected hotel: ['Boston' 'MA' 'Sheraton Boston Hotel']\n",
      "Mean Squared Error - BM25: 0.7810000750680801\n",
      "2\n",
      "[['We', 'have', 'been', 'to', 'Boston', '5', 'times', 'now', 'around', 'Thanksgiving..and', 'now', 'only', 'stay', 'Kimpton.', 'Our', 'friends', 'who', 'have', 'never', 'been', 'to', 'US', 'before', 'were', 'amazed.', 'The', 'Onyx', 'did', 'not', 'let', 'us', 'down.', 'Smaller', 'than', 'other', 'hotels', 'in', 'reception', 'but', 'just', 'as', 'welcoming.', 'Restaurant', 'area', 'smaller', 'but', 'just', 'as', 'accommodating.', 'Staff', 'brilliant.', 'We', 'walked', 'everywhere', \"'til\", 'we', 'dropped.', 'Saw', 'sights', 'we', 'had', 'never', 'seen.', 'The', 'location', 'is', 'brilliant', 'for', 'north', 'end,', 'Little', 'Italy,', 'Cambridge', 'and', 'Quincy', 'Market.', 'We', 'only', 'had', 'to', 'walk', '5', 'minutes', 'to', 'a', 'good', 'selection', 'of', 'bars', 'and', 'eats.', 'Excellent', 'stay.', 'We', 'are', 'gonna', 'be', 'back', 'kids!,'], ['Just', 'returned', 'from', 'a', '3', 'night', 'stay', 'at', 'Onyx.', 'Had', 'business', 'near', 'the', 'North', 'End', 'and', 'was', 'able', 'to', 'walk', 'there.', 'Room', 'is', 'large,', 'well', 'appointed', 'and', 'very', 'clean', 'Street', 'is', 'quiet', 'with', 'enough', 'places', 'to', 'get', 'morning', 'coffee.', 'Fitness', 'center', 'is', 'small,', 'but', 'all', 'I', 'needed', 'was', 'one', 'cardio', 'machine', 'and', 'it', 'worked.', 'Able', 'to', 'walk', 'to', 'all', 'the', 'restaurants', 'in', 'the', 'North', 'End', 'and', 'had', 'a', 'great', 'dinner', 'at', 'Carmelinas', 'and', 'drinks/apps', 'at', 'Nebo', 'another', 'night.', 'Both', 'fantastic!\\nHoping', 'to', 'come', 'back', 'and', 'stay', 'here', 'again!'], ['I', 'have', 'stayed', 'here', 'a', 'few', 'times', 'and', 'ea', 'time', 'was', 'great.', 'The', 'location', 'next', 'to', 'the', 'td', 'garden', 'was', 'perfect', 'as', 'we', 'went', 'to', 'diff', 'events', 'there.', 'the', 'ruby', 'room', 'bar', 'is', 'a', 'nice', 'spot', 'to', 'have', 'a', 'few', 'drinks.', 'Walking', 'to', 'the', 'north', 'end', 'and', 'faneuil', 'hall', 'are', 'both', 'very', 'convenient!'], ['Having', 'spent', '3', 'days', 'in', 'NYC', 'at', 'a', 'very', 'shabby', 'hotel', 'we', 'were', 'hoping', 'Boston', 'would', 'be', 'much', 'better.', 'We', 'were', 'not', 'disappointed.', 'Staff', 'were', 'so', 'polite', 'and', 'helpful,', 'they', 'gave', 'us', 'directions', 'to', 'shopping', 'places,', \"recommendnation's\", 'for', 'eating', 'etc.', 'Nathan', '&', 'Joe', 'in', 'the', 'bar', 'were', 'fantastic', 'and', 'it', 'was', 'a', 'pleasure', 'to', 'sit', 'chatting', 'at', 'the', 'bar', 'in', 'a', 'relaxed', 'environment.', 'Room', 'was', 'lovely', 'and', 'clean.', 'No', 'traffic', 'noise.', 'Upon', 'check', 'out', 'they', 'arranged', 'the', 'taxi', 'and', 'offered', 'complimentary', 'coffee', 'to', 'take', 'with', 'us.', 'I', 'would', 'definitely', 'return', 'and', \"couldn't\", 'of', 'asked', 'for', 'better', 'service.'], ['We', 'stayed', 'for', 'one', 'night', 'at', 'the', 'Onyx', 'hotel', 'with', 'friends.', 'We', 'booked', 'two', 'rooms.', 'Check', 'in', 'was', 'easy.', 'The', 'rooms', 'were', 'ready', 'early', '(one', 'couple', 'was', 'there', 'early).The', 'rooms', 'were', 'small', 'for', 'other', 'chain', 'hotels,', 'but', 'comfortable', 'for', 'two.', 'The', 'rooms', 'were', 'clean', 'and', 'well', 'maintained.', 'The', 'bathroom', 'was', 'a', 'bit', 'dark.', 'We', 'were', 'in', 'a', 'corner', 'room', 'on', 'the', '7th', 'floor.', 'We', \"weren't\", 'bothered', 'by', 'the', 'city', 'noises', 'but', 'think', 'our', 'room', 'was', 'right', 'by', 'the', 'staff', 'closet.', 'The', 'noise', 'in', 'the', 'morning', 'was', 'terrible', '(doors', 'slamming,', 'things', 'banging', 'into', 'the', 'walls,', 'loud', 'conversations', 'between', 'staff', 'in', 'the', 'hallway).', 'This', 'was', 'a', 'disappointing', 'for', 'us', 'as', 'part', 'of', 'the', 'joy', 'of', 'a', 'day', 'off', 'and', 'hotel', 'stay', 'is', 'sleeping', 'in', 'late', 'and', 'sleeping', 'was', 'impossible', 'with', 'the', 'noise.', 'Our', 'friends,', 'in', 'a', 'room', 'on', 'another', 'floor/location', 'did', 'not', 'have', 'the', 'same', 'issue.', 'The', 'bed', 'and', 'pillows', 'were', 'comfortable.', 'The', 'bar', 'was', 'ok', 'for', 'hanging', 'out', 'briefly', 'and', 'meeting', 'up.', 'The', 'bartender', 'had', 'a', 'few', 'catch', 'phrases', 'that', 'he', 'said', 'over', 'and', 'over', 'and', 'over', 'again.', 'it', 'became', 'humorous.', 'The', 'bartender', 'mentioned', 'that', 'they', 'are', 'going', 'to', 'be', 'doing', 'some', 'construction', 'in', 'the', 'near', 'future', 'and', 'expect', 'the', 'bar', 'to', 'be', 'closed', 'for', 'a', 'few', 'weeks', \"(I'm\", 'not', 'sure', 'when,', 'but', 'if', 'this', 'is', 'important', 'to', 'you,', 'you', 'may', 'want', 'to', 'check).', 'The', 'location', 'was', 'decent.', 'Great', 'for', 'game', 'at', 'the', 'TD', 'Gardens.', 'We', 'walked', 'the', 'city.', 'It', 'is', 'a', 'long', 'walk', 'but', 'not', 'impossible', 'walk', 'to', 'many', 'area', 'attractions.', 'The', 'valet', 'parking', 'is', '$45', 'per', 'night.', 'I', 'think', 'the', 'lot', 'is', 'some', 'distance', 'away', 'from', 'the', 'hotel.', 'It', 'takes', 'about', '30', 'minutes', 'to', 'get', 'your', 'car.', 'They', 'warn', 'you', 'of', 'this', 'when', 'you', 'check', 'in.', 'The', 'staff', 'is', 'young,', 'but', 'very', 'pleasant', 'and', 'helpful', 'and', 'friendly.', 'The', 'hotel', 'appeared', 'to', 'be', 'pet', 'friendly', '(although', 'we', \"weren't\", 'traveling', 'with', 'a', 'pet', 'this', 'time)', 'with', 'a', 'dog', 'bowl', 'and', 'sign', 'welcoming', 'the', 'pet', 'guests', 'by', 'name.']]\n",
      "Really, really good. Despite being a huge city Hotel it still has a personal touch. Without a doubt it also has the best buffet breakfast in town. Also the very best open air roof top pool, you couldn't ask for any more. If you can stay - do stay.\n",
      "Selected hotel: ['Boston' 'MA' 'Sheraton Boston Hotel']\n",
      "Mean Squared Error - My model: 0.7810000750680801\n"
     ]
    }
   ],
   "source": [
    "from rank_bm25 import BM25Okapi\n",
    "\n",
    "class Query:\n",
    "    def __init__(self, text, avg_rating, region\t, locality):\n",
    "        self.text = text\n",
    "        self.rating = avg_rating\n",
    "        self.region = region\n",
    "        self.locality = locality\n",
    "\n",
    "\n",
    "    def bm25_model(self, reviews):\n",
    "        filtered_reviews = reviews[(reviews['hotel_region'] == self.region) & (reviews['hotel_locality'] == self.locality)]\n",
    "        \n",
    "        corpus = filtered_reviews[\"reviews_text\"]\n",
    "        tokenized_corpus = [rating.split(\" \") for rating in corpus]\n",
    "\n",
    "        bm25 = BM25Okapi(tokenized_corpus)\n",
    "        tokenized_query = self.text.split(\" \")\n",
    "        doc_scores = bm25.get_scores(tokenized_query)\n",
    "        most_related_place_bm = filtered_reviews.iloc[doc_scores.argmax()][\"hotel_id\"]\n",
    "        print(filtered_reviews.iloc[doc_scores.argmax()][\"reviews_text\"])\n",
    "        return most_related_place_bm\n",
    "\n",
    "\n",
    "    def my_model(self, reviews):\n",
    "        filtered_reviews = reviews[(reviews['hotel_region'] == self.region) & (reviews['hotel_locality'] == self.locality)]\n",
    "        \n",
    "        print(len(self.text.split(\" \")))\n",
    "        corpus = filtered_reviews[\"reviews_text\"][0:5]\n",
    "        tokenized_corpus = [rating.split(\" \") for rating in corpus]\n",
    "        print(tokenized_corpus)\n",
    "        corpus = filtered_reviews[\"reviews_text\"]\n",
    "        tokenized_corpus = [rating.split(\" \") for rating in corpus]\n",
    "\n",
    "        bm25 = BM25Okapi(tokenized_corpus)\n",
    "        tokenized_query = self.text.split(\" \")\n",
    "        doc_scores = bm25.get_scores(tokenized_query)\n",
    "        most_related_place_bm = filtered_reviews.iloc[doc_scores.argmax()][\"hotel_id\"]\n",
    "        print(filtered_reviews.iloc[doc_scores.argmax()][\"reviews_text\"])\n",
    "        return most_related_place_bm\n",
    "\n",
    "    def evaluate(self, selected_place, reviews):\n",
    "        filtered_reviews = reviews[reviews['hotel_id'] == selected_place]\n",
    "        mse = 0 \n",
    "        for i in range(len(filtered_reviews)):\n",
    "            review = filtered_reviews.iloc[i]\n",
    "            mse += (self.rating - review[\"reviews_rating\"]) **2\n",
    "        mse /= filtered_reviews.shape[0]\n",
    "        return mse\n",
    "\n",
    "\n",
    "query = Query(text=\"best breakfast\", \n",
    "              avg_rating = 4, \n",
    "              region=\"MA\", \n",
    "              locality = \"Boston\")\n",
    "\n",
    "\n",
    "similates_id = query.bm25_model(data)\n",
    "print(\"Selected hotel:\" , np.unique(data[data['hotel_id'] == similates_id][[\"hotel_name\", \"hotel_region\", \"hotel_locality\"]]))\n",
    "mse = query.evaluate(similates_id,data)\n",
    "print(\"Mean Squared Error - BM25:\", mse)\n",
    "\n",
    "similates_id = query.my_model(data)\n",
    "print(\"Selected hotel:\" , np.unique(data[data['hotel_id'] == similates_id][[\"hotel_name\", \"hotel_region\", \"hotel_locality\"]]))\n",
    "mse = query.evaluate(similates_id,data)\n",
    "print(\"Mean Squared Error - My model:\", mse)"
   ]
  }
 ],
 "metadata": {
  "kernelspec": {
   "display_name": "Python 3",
   "language": "python",
   "name": "python3"
  },
  "language_info": {
   "codemirror_mode": {
    "name": "ipython",
    "version": 3
   },
   "file_extension": ".py",
   "mimetype": "text/x-python",
   "name": "python",
   "nbconvert_exporter": "python",
   "pygments_lexer": "ipython3",
   "version": "3.13.0"
  }
 },
 "nbformat": 4,
 "nbformat_minor": 2
}
